{
 "cells": [
  {
   "cell_type": "code",
   "execution_count": 1,
   "metadata": {},
   "outputs": [],
   "source": [
    "%matplotlib inline\n",
    "import matplotlib.pyplot as plt\n",
    "\n",
    "from Chan import CChan\n",
    "from ChanConfig import CChanConfig\n",
    "from Common.CEnum import AUTYPE, DATA_SRC, KL_TYPE\n",
    "from Plot.PlotDriver import CPlotDriver\n"
   ]
  },
  {
   "cell_type": "code",
   "execution_count": 2,
   "metadata": {},
   "outputs": [],
   "source": [
    "code = \"NVDA\"\n",
    "begin_time = \"2025-05-25\"\n",
    "#end_time = \"2024-01-24\"\n",
    "end_time = None\n",
    "data_src = DATA_SRC.YAHOO_FINANCE\n",
    "#data_src = DATA_SRC.ALPHA_VANTAGE\n",
    "lv_list = [KL_TYPE.K_5M]\n",
    "\n",
    "config = CChanConfig({\n",
    "    \"cal_demark\": False,\n",
    "    \"cal_kdj\": False,\n",
    "    \"cal_dmi\": False,\n",
    "    \"cal_rsi\": False,\n",
    "    \"cal_rsl\": True,\n",
    "    \"bi_strict\": True,\n",
    "    \"trigger_step\": False,\n",
    "    \"skip_step\": 0,\n",
    "    \"divergence_rate\": float(\"inf\"),\n",
    "    \"bsp2_follow_1\": True,\n",
    "    \"bsp3_follow_1\": False,\n",
    "    \"min_zs_cnt\": 0,\n",
    "    \"bs1_peak\": False,\n",
    "    \"macd_algo\": \"peak\",\n",
    "    \"bs_type\": '1,2,3a,1p,2s,3b',\n",
    "    \"print_warning\": True,\n",
    "    \"zs_algo\": \"normal\",\n",
    "})\n"
   ]
  },
  {
   "cell_type": "code",
   "execution_count": 3,
   "metadata": {},
   "outputs": [],
   "source": [
    "plot_config = {\n",
    "    \"plot_kline\": True,\n",
    "    \"plot_kline_combine\": True,\n",
    "    \"plot_bi\": True,\n",
    "    \"plot_seg\": True,\n",
    "    \"plot_eigen\": False,\n",
    "    \"plot_zs\": True,\n",
    "    \"plot_macd\": False,\n",
    "    \"plot_dmi\": False,\n",
    "    \"plot_mean\": False,\n",
    "    \"plot_channel\": False,\n",
    "    \"plot_bsp\": True,\n",
    "    \"plot_extrainfo\": False,\n",
    "    \"plot_demark\": False,\n",
    "    \"plot_marker\": False,\n",
    "    \"plot_rsi\": False,\n",
    "    \"plot_kdj\": False,\n",
    "    \"plot_rsl\": True,\n",
    "}\n",
    "\n",
    "plot_para = {\n",
    "    \"figure\": {\"x_range\": 1000},\n",
    "}\n"
   ]
  },
  {
   "cell_type": "code",
   "execution_count": 4,
   "metadata": {},
   "outputs": [
    {
     "name": "stdout",
     "output_type": "stream",
     "text": [
      "YF.download() has changed argument auto_adjust default to True\n"
     ]
    },
    {
     "name": "stderr",
     "output_type": "stream",
     "text": [
      "\n",
      "1 Failed download:\n",
      "['NVDA']: YFRateLimitError('Too Many Requests. Rate limited. Try after a while.')\n"
     ]
    },
    {
     "ename": "Exception",
     "evalue": "yfinance returned no data for symbol: NVDA",
     "output_type": "error",
     "traceback": [
      "\u001b[1;31m---------------------------------------------------------------------------\u001b[0m",
      "\u001b[1;31mException\u001b[0m                                 Traceback (most recent call last)",
      "Cell \u001b[1;32mIn[4], line 1\u001b[0m\n\u001b[1;32m----> 1\u001b[0m chan \u001b[38;5;241m=\u001b[39m \u001b[43mCChan\u001b[49m\u001b[43m(\u001b[49m\n\u001b[0;32m      2\u001b[0m \u001b[43m    \u001b[49m\u001b[43mcode\u001b[49m\u001b[38;5;241;43m=\u001b[39;49m\u001b[43mcode\u001b[49m\u001b[43m,\u001b[49m\n\u001b[0;32m      3\u001b[0m \u001b[43m    \u001b[49m\u001b[43mbegin_time\u001b[49m\u001b[38;5;241;43m=\u001b[39;49m\u001b[43mbegin_time\u001b[49m\u001b[43m,\u001b[49m\n\u001b[0;32m      4\u001b[0m \u001b[43m    \u001b[49m\u001b[43mend_time\u001b[49m\u001b[38;5;241;43m=\u001b[39;49m\u001b[43mend_time\u001b[49m\u001b[43m,\u001b[49m\n\u001b[0;32m      5\u001b[0m \u001b[43m    \u001b[49m\u001b[43mdata_src\u001b[49m\u001b[38;5;241;43m=\u001b[39;49m\u001b[43mdata_src\u001b[49m\u001b[43m,\u001b[49m\n\u001b[0;32m      6\u001b[0m \u001b[43m    \u001b[49m\u001b[43mlv_list\u001b[49m\u001b[38;5;241;43m=\u001b[39;49m\u001b[43mlv_list\u001b[49m\u001b[43m,\u001b[49m\n\u001b[0;32m      7\u001b[0m \u001b[43m    \u001b[49m\u001b[43mconfig\u001b[49m\u001b[38;5;241;43m=\u001b[39;49m\u001b[43mconfig\u001b[49m\u001b[43m,\u001b[49m\n\u001b[0;32m      8\u001b[0m \u001b[43m    \u001b[49m\u001b[43mautype\u001b[49m\u001b[38;5;241;43m=\u001b[39;49m\u001b[43mAUTYPE\u001b[49m\u001b[38;5;241;43m.\u001b[39;49m\u001b[43mQFQ\u001b[49m\u001b[43m,\u001b[49m\n\u001b[0;32m      9\u001b[0m \u001b[43m)\u001b[49m\n\u001b[0;32m     11\u001b[0m plot_driver \u001b[38;5;241m=\u001b[39m CPlotDriver(chan, plot_config\u001b[38;5;241m=\u001b[39mplot_config, plot_para\u001b[38;5;241m=\u001b[39mplot_para)\n\u001b[0;32m     12\u001b[0m plot_driver\u001b[38;5;241m.\u001b[39msave2img(\u001b[38;5;124m\"\u001b[39m\u001b[38;5;124m./NVDA5m.png\u001b[39m\u001b[38;5;124m\"\u001b[39m)\n",
      "File \u001b[1;32mc:\\Users\\20537\\Desktop\\chan.py\\Chan.py:52\u001b[0m, in \u001b[0;36mCChan.__init__\u001b[1;34m(self, code, begin_time, end_time, data_src, lv_list, config, autype)\u001b[0m\n\u001b[0;32m     49\u001b[0m \u001b[38;5;28mself\u001b[39m\u001b[38;5;241m.\u001b[39mdo_init()\n\u001b[0;32m     51\u001b[0m \u001b[38;5;28;01mif\u001b[39;00m \u001b[38;5;129;01mnot\u001b[39;00m config\u001b[38;5;241m.\u001b[39mtrigger_step:\n\u001b[1;32m---> 52\u001b[0m \u001b[43m    \u001b[49m\u001b[38;5;28;43;01mfor\u001b[39;49;00m\u001b[43m \u001b[49m\u001b[43m_\u001b[49m\u001b[43m \u001b[49m\u001b[38;5;129;43;01min\u001b[39;49;00m\u001b[43m \u001b[49m\u001b[38;5;28;43mself\u001b[39;49m\u001b[38;5;241;43m.\u001b[39;49m\u001b[43mload\u001b[49m\u001b[43m(\u001b[49m\u001b[43m)\u001b[49m\u001b[43m:\u001b[49m\n\u001b[0;32m     53\u001b[0m \u001b[43m        \u001b[49m\u001b[38;5;241;43m.\u001b[39;49m\u001b[38;5;241;43m.\u001b[39;49m\u001b[38;5;241;43m.\u001b[39;49m\n",
      "File \u001b[1;32mc:\\Users\\20537\\Desktop\\chan.py\\Chan.py:209\u001b[0m, in \u001b[0;36mCChan.load\u001b[1;34m(self, step)\u001b[0m\n\u001b[0;32m    206\u001b[0m \u001b[38;5;28mself\u001b[39m\u001b[38;5;241m.\u001b[39mklu_cache: List[Optional[CKLine_Unit]] \u001b[38;5;241m=\u001b[39m [\u001b[38;5;28;01mNone\u001b[39;00m \u001b[38;5;28;01mfor\u001b[39;00m _ \u001b[38;5;129;01min\u001b[39;00m \u001b[38;5;28mself\u001b[39m\u001b[38;5;241m.\u001b[39mlv_list]\n\u001b[0;32m    207\u001b[0m \u001b[38;5;28mself\u001b[39m\u001b[38;5;241m.\u001b[39mklu_last_t \u001b[38;5;241m=\u001b[39m [CTime(\u001b[38;5;241m1980\u001b[39m, \u001b[38;5;241m1\u001b[39m, \u001b[38;5;241m1\u001b[39m, \u001b[38;5;241m0\u001b[39m, \u001b[38;5;241m0\u001b[39m) \u001b[38;5;28;01mfor\u001b[39;00m _ \u001b[38;5;129;01min\u001b[39;00m \u001b[38;5;28mself\u001b[39m\u001b[38;5;241m.\u001b[39mlv_list]\n\u001b[1;32m--> 209\u001b[0m \u001b[38;5;28;01myield from\u001b[39;00m \u001b[38;5;28mself\u001b[39m\u001b[38;5;241m.\u001b[39mload_iterator(lv_idx\u001b[38;5;241m=\u001b[39m\u001b[38;5;241m0\u001b[39m, parent_klu\u001b[38;5;241m=\u001b[39m\u001b[38;5;28;01mNone\u001b[39;00m, step\u001b[38;5;241m=\u001b[39mstep)  \u001b[38;5;66;03m# 计算入口\u001b[39;00m\n\u001b[0;32m    210\u001b[0m \u001b[38;5;28;01mif\u001b[39;00m \u001b[38;5;129;01mnot\u001b[39;00m step:  \u001b[38;5;66;03m# 非回放模式全部算完之后才算一次中枢和线段\u001b[39;00m\n\u001b[0;32m    211\u001b[0m     \u001b[38;5;28;01mfor\u001b[39;00m lv \u001b[38;5;129;01min\u001b[39;00m \u001b[38;5;28mself\u001b[39m\u001b[38;5;241m.\u001b[39mlv_list:\n",
      "File \u001b[1;32mc:\\Users\\20537\\Desktop\\chan.py\\Chan.py:254\u001b[0m, in \u001b[0;36mCChan.load_iterator\u001b[1;34m(self, lv_idx, parent_klu, step)\u001b[0m\n\u001b[0;32m    252\u001b[0m \u001b[38;5;28;01melse\u001b[39;00m:\n\u001b[0;32m    253\u001b[0m     \u001b[38;5;28;01mtry\u001b[39;00m:\n\u001b[1;32m--> 254\u001b[0m         kline_unit \u001b[38;5;241m=\u001b[39m \u001b[38;5;28;43mself\u001b[39;49m\u001b[38;5;241;43m.\u001b[39;49m\u001b[43mget_next_lv_klu\u001b[49m\u001b[43m(\u001b[49m\u001b[43mlv_idx\u001b[49m\u001b[43m)\u001b[49m\n\u001b[0;32m    255\u001b[0m         \u001b[38;5;28mself\u001b[39m\u001b[38;5;241m.\u001b[39mtry_set_klu_idx(lv_idx, kline_unit)\n\u001b[0;32m    256\u001b[0m         \u001b[38;5;28;01mif\u001b[39;00m \u001b[38;5;129;01mnot\u001b[39;00m kline_unit\u001b[38;5;241m.\u001b[39mtime \u001b[38;5;241m>\u001b[39m \u001b[38;5;28mself\u001b[39m\u001b[38;5;241m.\u001b[39mklu_last_t[lv_idx]:\n",
      "File \u001b[1;32mc:\\Users\\20537\\Desktop\\chan.py\\Chan.py:112\u001b[0m, in \u001b[0;36mCChan.get_next_lv_klu\u001b[1;34m(self, lv_idx)\u001b[0m\n\u001b[0;32m    110\u001b[0m     \u001b[38;5;28;01mraise\u001b[39;00m \u001b[38;5;167;01mStopIteration\u001b[39;00m\n\u001b[0;32m    111\u001b[0m \u001b[38;5;28;01mtry\u001b[39;00m:\n\u001b[1;32m--> 112\u001b[0m     \u001b[38;5;28;01mreturn\u001b[39;00m \u001b[38;5;28;43mself\u001b[39;49m\u001b[38;5;241;43m.\u001b[39;49m\u001b[43mg_kl_iter\u001b[49m\u001b[43m[\u001b[49m\u001b[43mlv_idx\u001b[49m\u001b[43m]\u001b[49m\u001b[43m[\u001b[49m\u001b[38;5;241;43m0\u001b[39;49m\u001b[43m]\u001b[49m\u001b[38;5;241;43m.\u001b[39;49m\u001b[38;5;21;43m__next__\u001b[39;49m\u001b[43m(\u001b[49m\u001b[43m)\u001b[49m\n\u001b[0;32m    113\u001b[0m \u001b[38;5;28;01mexcept\u001b[39;00m \u001b[38;5;167;01mStopIteration\u001b[39;00m:\n\u001b[0;32m    114\u001b[0m     \u001b[38;5;28mself\u001b[39m\u001b[38;5;241m.\u001b[39mg_kl_iter[lv_idx] \u001b[38;5;241m=\u001b[39m \u001b[38;5;28mself\u001b[39m\u001b[38;5;241m.\u001b[39mg_kl_iter[lv_idx][\u001b[38;5;241m1\u001b[39m:]\n",
      "File \u001b[1;32mc:\\Users\\20537\\Desktop\\chan.py\\Chan.py:91\u001b[0m, in \u001b[0;36mCChan.load_stock_data\u001b[1;34m(self, stockapi_instance, lv)\u001b[0m\n\u001b[0;32m     90\u001b[0m \u001b[38;5;28;01mdef\u001b[39;00m \u001b[38;5;21mload_stock_data\u001b[39m(\u001b[38;5;28mself\u001b[39m, stockapi_instance: CCommonStockApi, lv) \u001b[38;5;241m-\u001b[39m\u001b[38;5;241m>\u001b[39m Iterable[CKLine_Unit]:\n\u001b[1;32m---> 91\u001b[0m \u001b[43m    \u001b[49m\u001b[38;5;28;43;01mfor\u001b[39;49;00m\u001b[43m \u001b[49m\u001b[43mKLU_IDX\u001b[49m\u001b[43m,\u001b[49m\u001b[43m \u001b[49m\u001b[43mklu\u001b[49m\u001b[43m \u001b[49m\u001b[38;5;129;43;01min\u001b[39;49;00m\u001b[43m \u001b[49m\u001b[38;5;28;43menumerate\u001b[39;49m\u001b[43m(\u001b[49m\u001b[43mstockapi_instance\u001b[49m\u001b[38;5;241;43m.\u001b[39;49m\u001b[43mget_kl_data\u001b[49m\u001b[43m(\u001b[49m\u001b[43m)\u001b[49m\u001b[43m)\u001b[49m\u001b[43m:\u001b[49m\n\u001b[0;32m     92\u001b[0m \u001b[43m        \u001b[49m\u001b[43mklu\u001b[49m\u001b[38;5;241;43m.\u001b[39;49m\u001b[43mset_idx\u001b[49m\u001b[43m(\u001b[49m\u001b[43mKLU_IDX\u001b[49m\u001b[43m)\u001b[49m\n\u001b[0;32m     93\u001b[0m \u001b[43m        \u001b[49m\u001b[43mklu\u001b[49m\u001b[38;5;241;43m.\u001b[39;49m\u001b[43mkl_type\u001b[49m\u001b[43m \u001b[49m\u001b[38;5;241;43m=\u001b[39;49m\u001b[43m \u001b[49m\u001b[43mlv\u001b[49m\n",
      "File \u001b[1;32mc:\\Users\\20537\\Desktop\\chan.py\\DataAPI\\YahooFinanceAPI.py:20\u001b[0m, in \u001b[0;36mCYahooFinance.get_kl_data\u001b[1;34m(self)\u001b[0m\n\u001b[0;32m     17\u001b[0m df \u001b[38;5;241m=\u001b[39m yf\u001b[38;5;241m.\u001b[39mdownload(\u001b[38;5;28mself\u001b[39m\u001b[38;5;241m.\u001b[39mcode, start\u001b[38;5;241m=\u001b[39m\u001b[38;5;28mself\u001b[39m\u001b[38;5;241m.\u001b[39mbegin_date, end\u001b[38;5;241m=\u001b[39m\u001b[38;5;28mself\u001b[39m\u001b[38;5;241m.\u001b[39mend_date, interval\u001b[38;5;241m=\u001b[39minterval, progress\u001b[38;5;241m=\u001b[39m\u001b[38;5;28;01mFalse\u001b[39;00m)\n\u001b[0;32m     19\u001b[0m \u001b[38;5;28;01mif\u001b[39;00m df\u001b[38;5;241m.\u001b[39mempty:\n\u001b[1;32m---> 20\u001b[0m     \u001b[38;5;28;01mraise\u001b[39;00m \u001b[38;5;167;01mException\u001b[39;00m(\u001b[38;5;124mf\u001b[39m\u001b[38;5;124m\"\u001b[39m\u001b[38;5;124myfinance returned no data for symbol: \u001b[39m\u001b[38;5;132;01m{\u001b[39;00m\u001b[38;5;28mself\u001b[39m\u001b[38;5;241m.\u001b[39mcode\u001b[38;5;132;01m}\u001b[39;00m\u001b[38;5;124m\"\u001b[39m)\n\u001b[0;32m     22\u001b[0m \u001b[38;5;28;01mfor\u001b[39;00m index, row \u001b[38;5;129;01min\u001b[39;00m df\u001b[38;5;241m.\u001b[39miterrows():\n\u001b[0;32m     23\u001b[0m     dt \u001b[38;5;241m=\u001b[39m index\u001b[38;5;241m.\u001b[39mto_pydatetime()\n",
      "\u001b[1;31mException\u001b[0m: yfinance returned no data for symbol: NVDA"
     ]
    }
   ],
   "source": [
    "chan = CChan(\n",
    "    code=code,\n",
    "    begin_time=begin_time,\n",
    "    end_time=end_time,\n",
    "    data_src=data_src,\n",
    "    lv_list=lv_list,\n",
    "    config=config,\n",
    "    autype=AUTYPE.QFQ,\n",
    ")\n",
    "\n",
    "plot_driver = CPlotDriver(chan, plot_config=plot_config, plot_para=plot_para)\n",
    "plot_driver.save2img(\"./NVDA5m.png\")\n",
    "plot_driver.figure.show()"
   ]
  }
 ],
 "metadata": {
  "kernelspec": {
   "display_name": "base",
   "language": "python",
   "name": "python3"
  },
  "language_info": {
   "codemirror_mode": {
    "name": "ipython",
    "version": 3
   },
   "file_extension": ".py",
   "mimetype": "text/x-python",
   "name": "python",
   "nbconvert_exporter": "python",
   "pygments_lexer": "ipython3",
   "version": "3.11.5"
  }
 },
 "nbformat": 4,
 "nbformat_minor": 2
}
